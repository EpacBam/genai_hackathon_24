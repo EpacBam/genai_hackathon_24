{
 "cells": [
  {
   "cell_type": "code",
   "execution_count": 4,
   "id": "fd616852-3dee-4308-9e93-f81367e211ba",
   "metadata": {},
   "outputs": [
    {
     "name": "stdout",
     "output_type": "stream",
     "text": [
      "Loading dataset: debit_transactions\n",
      "debit_transactions - Shape: (1000, 4)\n",
      "   account_id transaction_type  transaction_amount            transaction_date\n",
      "0          27            Debit             1680.49  2024-09-12 10:11:39.037889\n",
      "1          15            Debit              913.53  2024-09-18 10:11:39.037889\n",
      "2         150            Debit             4515.06  2024-10-10 10:11:39.037889\n",
      "3          86            Debit             1604.86  2024-09-23 10:11:39.037889\n",
      "4           7            Debit             4033.40  2024-09-11 10:11:39.037889\n",
      "Loading dataset: credit_transactions\n",
      "credit_transactions - Shape: (1000, 4)\n",
      "   account_id transaction_type  transaction_amount            transaction_date\n",
      "0          70           Credit              564.78  2024-09-29 10:11:39.037889\n",
      "1         172           Credit              950.58  2024-11-01 10:11:39.037889\n",
      "2          42           Credit               67.31  2024-10-07 10:11:39.037889\n",
      "3          35           Credit              352.30  2024-09-19 10:11:39.037889\n",
      "4          19           Credit             4185.79  2024-09-25 10:11:39.037889\n",
      "Loading dataset: customer_risk_markers\n",
      "customer_risk_markers - Shape: (100, 2)\n",
      "   customer_id risk_marker\n",
      "0           82     Default\n",
      "1           91     Default\n",
      "2           34  Insolvency\n",
      "3           15  Insolvency\n",
      "4           30   High Risk\n"
     ]
    }
   ],
   "source": [
    "import pandas as pd\n",
    "\n",
    "# List of datasets to load and check\n",
    "datasets = [\"debit_transactions\", \"credit_transactions\", \"customer_risk_markers\"]\n",
    "\n",
    "for ds in datasets:\n",
    "    file_path = f\"data/{ds}.csv\"\n",
    "    print(f\"Loading dataset: {ds}\")\n",
    "    try:\n",
    "        df = pd.read_csv(file_path)\n",
    "        print(f\"{ds} - Shape: {df.shape}\")\n",
    "        print(df.head())  # Display the first few rows to confirm data\n",
    "    except Exception as e:\n",
    "        print(f\"Error loading {ds}: {e}\")"
   ]
  },
  {
   "cell_type": "code",
   "execution_count": 6,
   "id": "088529ca-ed31-460a-959e-d85e3e697600",
   "metadata": {},
   "outputs": [
    {
     "name": "stdout",
     "output_type": "stream",
     "text": [
      "Combined DataFrame:\n",
      "   account_id transaction_type  transaction_amount  \\\n",
      "0        27.0            Debit             1680.49   \n",
      "1        15.0            Debit              913.53   \n",
      "2       150.0            Debit             4515.06   \n",
      "3        86.0            Debit             1604.86   \n",
      "4         7.0            Debit             4033.40   \n",
      "\n",
      "             transaction_date  customer_id risk_marker  \n",
      "0  2024-09-12 10:11:39.037889          NaN         NaN  \n",
      "1  2024-09-18 10:11:39.037889          NaN         NaN  \n",
      "2  2024-10-10 10:11:39.037889          NaN         NaN  \n",
      "3  2024-09-23 10:11:39.037889          NaN         NaN  \n",
      "4  2024-09-11 10:11:39.037889          NaN         NaN  \n",
      "Shape: (2100, 6)\n"
     ]
    }
   ],
   "source": [
    "# Simulating combination of multiple data frames\n",
    "data_frames = []\n",
    "for ds in datasets:\n",
    "    df = pd.read_csv(f\"data/{ds}.csv\")\n",
    "    data_frames.append(df)\n",
    "\n",
    "if len(data_frames) > 1:\n",
    "    combined_data = pd.concat(data_frames, ignore_index=True, sort=False)\n",
    "elif data_frames:\n",
    "    combined_data = data_frames[0]\n",
    "else:\n",
    "    combined_data = pd.DataFrame()\n",
    "\n",
    "print(\"Combined DataFrame:\")\n",
    "print(combined_data.head())  # Display combined data preview\n",
    "print(\"Shape:\", combined_data.shape)"
   ]
  },
  {
   "cell_type": "code",
   "execution_count": 10,
   "id": "cea798cb-c6a9-4ba7-9fa0-d4437e6a0c81",
   "metadata": {},
   "outputs": [
    {
     "name": "stdout",
     "output_type": "stream",
     "text": [
      "Credit Transactions:\n",
      "    account_id transaction_type  transaction_amount            transaction_date\n",
      "0          70           Credit              564.78  2024-09-29 10:11:39.037889\n",
      "1         172           Credit              950.58  2024-11-01 10:11:39.037889\n",
      "2          42           Credit               67.31  2024-10-07 10:11:39.037889\n",
      "3          35           Credit              352.30  2024-09-19 10:11:39.037889\n",
      "4          19           Credit             4185.79  2024-09-25 10:11:39.037889\n",
      "Debit Transactions:\n",
      "    account_id transaction_type  transaction_amount            transaction_date\n",
      "0          27            Debit             1680.49  2024-09-12 10:11:39.037889\n",
      "1          15            Debit              913.53  2024-09-18 10:11:39.037889\n",
      "2         150            Debit             4515.06  2024-10-10 10:11:39.037889\n",
      "3          86            Debit             1604.86  2024-09-23 10:11:39.037889\n",
      "4           7            Debit             4033.40  2024-09-11 10:11:39.037889\n",
      "Customer Risk Markers:\n",
      "    customer_id risk_marker\n",
      "0           82     Default\n",
      "1           91     Default\n",
      "2           34  Insolvency\n",
      "3           15  Insolvency\n",
      "4           30   High Risk\n",
      "Combined Transaction Data:\n",
      "    account_id transaction_type  transaction_amount            transaction_date\n",
      "0          70           Credit              564.78  2024-09-29 10:11:39.037889\n",
      "1         172           Credit              950.58  2024-11-01 10:11:39.037889\n",
      "2          42           Credit               67.31  2024-10-07 10:11:39.037889\n",
      "3          35           Credit              352.30  2024-09-19 10:11:39.037889\n",
      "4          19           Credit             4185.79  2024-09-25 10:11:39.037889\n",
      "Shape of Combined Transaction Data: (2000, 4)\n"
     ]
    }
   ],
   "source": [
    "import pandas as pd\n",
    "\n",
    "# Load individual datasets\n",
    "credit_transactions = pd.read_csv(\"data/credit_transactions.csv\")\n",
    "debit_transactions = pd.read_csv(\"data/debit_transactions.csv\")\n",
    "customer_risk_markers = pd.read_csv(\"data/customer_risk_markers.csv\")\n",
    "\n",
    "# Preview individual datasets\n",
    "print(\"Credit Transactions:\\n\", credit_transactions.head())\n",
    "print(\"Debit Transactions:\\n\", debit_transactions.head())\n",
    "print(\"Customer Risk Markers:\\n\", customer_risk_markers.head())\n",
    "\n",
    "# Merge credit and debit transactions on 'account_id'\n",
    "transaction_data = pd.concat([credit_transactions, debit_transactions], ignore_index=True)\n",
    "\n",
    "# Assuming there's a mapping between `customer_id` and `account_id`, which you might need in a real case\n",
    "# For this example, we'll skip this mapping step, but normally you would have something to bridge these IDs\n",
    "\n",
    "# If customer_id is a unique identifier in both customer_risk_markers and transactions, \n",
    "# you would use that to join with the customer risk markers\n",
    "# Here, I'm directly concatenating to illustrate the concept; adjust as needed in your full pipeline\n",
    "\n",
    "# Print combined data\n",
    "print(\"Combined Transaction Data:\\n\", transaction_data.head())\n",
    "print(\"Shape of Combined Transaction Data:\", transaction_data.shape)"
   ]
  },
  {
   "cell_type": "code",
   "execution_count": null,
   "id": "058f420f-83b9-4839-a40f-2b54d849140a",
   "metadata": {},
   "outputs": [],
   "source": []
  }
 ],
 "metadata": {
  "kernelspec": {
   "display_name": "Python (genai_hack)",
   "language": "python",
   "name": "genai_hack"
  },
  "language_info": {
   "codemirror_mode": {
    "name": "ipython",
    "version": 3
   },
   "file_extension": ".py",
   "mimetype": "text/x-python",
   "name": "python",
   "nbconvert_exporter": "python",
   "pygments_lexer": "ipython3",
   "version": "3.9.20"
  }
 },
 "nbformat": 4,
 "nbformat_minor": 5
}
